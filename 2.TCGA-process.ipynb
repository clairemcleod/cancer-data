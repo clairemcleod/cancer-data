{
 "cells": [
  {
   "cell_type": "markdown",
   "metadata": {},
   "source": [
    "# Convert downloaded TCGA datasets into sample × gene matrices"
   ]
  },
  {
   "cell_type": "code",
   "execution_count": 1,
   "metadata": {
    "collapsed": true
   },
   "outputs": [],
   "source": [
    "import os\n",
    "import pandas\n",
    "from urllib.request import urlretrieve\n",
    "import numpy as np"
   ]
  },
  {
   "cell_type": "markdown",
   "metadata": {},
   "source": [
    "## Read sample information\n",
    "\n",
    "This file contains sample information. See the [online documentation](https://genome-cancer.soe.ucsc.edu/proj/site/xena/datapages/?dataset=TCGA.PANCAN.sampleMap/PANCAN_clinicalMatrix&host=https://tcga.xenahubs.net) for `PANCAN_clinicalMatrix`."
   ]
  },
  {
   "cell_type": "code",
   "execution_count": 2,
   "metadata": {
    "collapsed": false
   },
   "outputs": [
    {
     "data": {
      "text/plain": [
       "(12811, 40)"
      ]
     },
     "execution_count": 2,
     "metadata": {},
     "output_type": "execute_result"
    }
   ],
   "source": [
    "path = os.path.join('download', 'PANCAN_clinicalMatrix.tsv.bz2')\n",
    "clinmat_df = (\n",
    "    pandas.read_table(path)\n",
    "    .rename(columns={'sampleID': 'sample_id'})\n",
    ")\n",
    "# Check that no sample_ids are duplicated\n",
    "assert not clinmat_df.sample_id.duplicated().any()\n",
    "clinmat_df.shape"
   ]
  },
  {
   "cell_type": "code",
   "execution_count": 3,
   "metadata": {
    "collapsed": false
   },
   "outputs": [
    {
     "data": {
      "text/plain": [
       "Primary Tumor                                      10593\n",
       "Solid Tissue Normal                                 1475\n",
       "Metastatic                                           396\n",
       "Primary Blood Derived Cancer - Peripheral Blood      200\n",
       "Recurrent Tumor                                       56\n",
       "Additional - New Primary                              11\n",
       "Additional Metastatic                                  1\n",
       "Name: sample_type, dtype: int64"
      ]
     },
     "execution_count": 3,
     "metadata": {},
     "output_type": "execute_result"
    }
   ],
   "source": [
    "# Types of samples\n",
    "clinmat_df.sample_type.value_counts()"
   ]
  },
  {
   "cell_type": "markdown",
   "metadata": {},
   "source": [
    "## Read mutation data\n",
    "\n",
    "This file contains mutation data (which mutations each sample contains) See the [online documentation](https://genome-cancer.soe.ucsc.edu/proj/site/xena/datapages/?dataset=TCGA.PANCAN.sampleMap/PANCAN_mutation&host=https://tcga.xenahubs.net) for `PANCAN_mutation`. Note that duplicate mutation rows, which [occur](https://groups.google.com/d/msg/ucsc-cancer-genomics-browser/eg6nJOFSefw/Z0BM6pU9BAAJ \"Message on the Xena Browser Google Group\") for samples that were sequenced multiple times, are filtered."
   ]
  },
  {
   "cell_type": "code",
   "execution_count": 4,
   "metadata": {
    "collapsed": false
   },
   "outputs": [
    {
     "data": {
      "text/html": [
       "<div>\n",
       "<table border=\"1\" class=\"dataframe\">\n",
       "  <thead>\n",
       "    <tr style=\"text-align: right;\">\n",
       "      <th></th>\n",
       "      <th>sample_id</th>\n",
       "      <th>chr</th>\n",
       "      <th>start</th>\n",
       "      <th>end</th>\n",
       "      <th>reference</th>\n",
       "      <th>alt</th>\n",
       "      <th>gene</th>\n",
       "      <th>effect</th>\n",
       "      <th>DNA_VAF</th>\n",
       "      <th>RNA_VAF</th>\n",
       "      <th>Amino_Acid_Change</th>\n",
       "    </tr>\n",
       "  </thead>\n",
       "  <tbody>\n",
       "    <tr>\n",
       "      <th>0</th>\n",
       "      <td>TCGA-D8-A1J8-01</td>\n",
       "      <td>chr10</td>\n",
       "      <td>52587953</td>\n",
       "      <td>52587953</td>\n",
       "      <td>C</td>\n",
       "      <td>A</td>\n",
       "      <td>A1CF</td>\n",
       "      <td>Missense_Mutation</td>\n",
       "      <td>NaN</td>\n",
       "      <td>NaN</td>\n",
       "      <td>p.R236I</td>\n",
       "    </tr>\n",
       "    <tr>\n",
       "      <th>1</th>\n",
       "      <td>TCGA-BH-A0HP-01</td>\n",
       "      <td>chr10</td>\n",
       "      <td>52595854</td>\n",
       "      <td>52595854</td>\n",
       "      <td>G</td>\n",
       "      <td>A</td>\n",
       "      <td>A1CF</td>\n",
       "      <td>Missense_Mutation</td>\n",
       "      <td>NaN</td>\n",
       "      <td>NaN</td>\n",
       "      <td>p.A195V</td>\n",
       "    </tr>\n",
       "  </tbody>\n",
       "</table>\n",
       "</div>"
      ],
      "text/plain": [
       "         sample_id    chr     start       end reference alt  gene  \\\n",
       "0  TCGA-D8-A1J8-01  chr10  52587953  52587953         C   A  A1CF   \n",
       "1  TCGA-BH-A0HP-01  chr10  52595854  52595854         G   A  A1CF   \n",
       "\n",
       "              effect  DNA_VAF  RNA_VAF Amino_Acid_Change  \n",
       "0  Missense_Mutation      NaN      NaN           p.R236I  \n",
       "1  Missense_Mutation      NaN      NaN           p.A195V  "
      ]
     },
     "execution_count": 4,
     "metadata": {},
     "output_type": "execute_result"
    }
   ],
   "source": [
    "path = os.path.join('download', 'PANCAN_mutation.tsv.bz2')\n",
    "snp_mutation_df = (\n",
    "    pandas.read_table(path)\n",
    "    .rename(columns={'sample': 'sample_id'})\n",
    "    .drop_duplicates()\n",
    ")\n",
    "snp_mutation_df.head(2)"
   ]
  },
  {
   "cell_type": "code",
   "execution_count": 5,
   "metadata": {
    "collapsed": false
   },
   "outputs": [
    {
     "data": {
      "text/plain": [
       "8510"
      ]
     },
     "execution_count": 5,
     "metadata": {},
     "output_type": "execute_result"
    }
   ],
   "source": [
    "# Number of samples with at least one mutation\n",
    "snp_mutation_df.sample_id.nunique()"
   ]
  },
  {
   "cell_type": "code",
   "execution_count": 6,
   "metadata": {
    "collapsed": false,
    "scrolled": false
   },
   "outputs": [
    {
     "data": {
      "text/html": [
       "<div>\n",
       "<table border=\"1\" class=\"dataframe\">\n",
       "  <thead>\n",
       "    <tr style=\"text-align: right;\">\n",
       "      <th></th>\n",
       "      <th>index</th>\n",
       "      <th>effect</th>\n",
       "    </tr>\n",
       "  </thead>\n",
       "  <tbody>\n",
       "    <tr>\n",
       "      <th>0</th>\n",
       "      <td>Missense_Mutation</td>\n",
       "      <td>1132319</td>\n",
       "    </tr>\n",
       "    <tr>\n",
       "      <th>1</th>\n",
       "      <td>Silent</td>\n",
       "      <td>474679</td>\n",
       "    </tr>\n",
       "    <tr>\n",
       "      <th>2</th>\n",
       "      <td>Nonsense_Mutation</td>\n",
       "      <td>87104</td>\n",
       "    </tr>\n",
       "    <tr>\n",
       "      <th>3</th>\n",
       "      <td>RNA</td>\n",
       "      <td>75134</td>\n",
       "    </tr>\n",
       "    <tr>\n",
       "      <th>4</th>\n",
       "      <td>Frame_Shift_Del</td>\n",
       "      <td>46991</td>\n",
       "    </tr>\n",
       "    <tr>\n",
       "      <th>5</th>\n",
       "      <td>Splice_Site</td>\n",
       "      <td>46477</td>\n",
       "    </tr>\n",
       "    <tr>\n",
       "      <th>6</th>\n",
       "      <td>Frame_Shift_Ins</td>\n",
       "      <td>21657</td>\n",
       "    </tr>\n",
       "    <tr>\n",
       "      <th>7</th>\n",
       "      <td>In_Frame_Del</td>\n",
       "      <td>10663</td>\n",
       "    </tr>\n",
       "    <tr>\n",
       "      <th>8</th>\n",
       "      <td>Translation_Start_Site</td>\n",
       "      <td>3437</td>\n",
       "    </tr>\n",
       "    <tr>\n",
       "      <th>9</th>\n",
       "      <td>In_Frame_Ins</td>\n",
       "      <td>2685</td>\n",
       "    </tr>\n",
       "    <tr>\n",
       "      <th>10</th>\n",
       "      <td>Nonstop_Mutation</td>\n",
       "      <td>1370</td>\n",
       "    </tr>\n",
       "    <tr>\n",
       "      <th>11</th>\n",
       "      <td>3'UTR</td>\n",
       "      <td>211</td>\n",
       "    </tr>\n",
       "    <tr>\n",
       "      <th>12</th>\n",
       "      <td>Intron</td>\n",
       "      <td>149</td>\n",
       "    </tr>\n",
       "    <tr>\n",
       "      <th>13</th>\n",
       "      <td>5'UTR</td>\n",
       "      <td>28</td>\n",
       "    </tr>\n",
       "    <tr>\n",
       "      <th>14</th>\n",
       "      <td>IGR</td>\n",
       "      <td>16</td>\n",
       "    </tr>\n",
       "    <tr>\n",
       "      <th>15</th>\n",
       "      <td>5'Flank</td>\n",
       "      <td>1</td>\n",
       "    </tr>\n",
       "  </tbody>\n",
       "</table>\n",
       "</div>"
      ],
      "text/plain": [
       "                     index   effect\n",
       "0        Missense_Mutation  1132319\n",
       "1                   Silent   474679\n",
       "2        Nonsense_Mutation    87104\n",
       "3                      RNA    75134\n",
       "4          Frame_Shift_Del    46991\n",
       "5              Splice_Site    46477\n",
       "6          Frame_Shift_Ins    21657\n",
       "7             In_Frame_Del    10663\n",
       "8   Translation_Start_Site     3437\n",
       "9             In_Frame_Ins     2685\n",
       "10        Nonstop_Mutation     1370\n",
       "11                   3'UTR      211\n",
       "12                  Intron      149\n",
       "13                   5'UTR       28\n",
       "14                     IGR       16\n",
       "15                 5'Flank        1"
      ]
     },
     "execution_count": 6,
     "metadata": {},
     "output_type": "execute_result"
    }
   ],
   "source": [
    "# Mutations counts by type\n",
    "snp_mutation_df.effect.value_counts().reset_index()"
   ]
  },
  {
   "cell_type": "markdown",
   "metadata": {},
   "source": [
    "### Convert mutation gene symbol labels to Entrez IDs  "
   ]
  },
  {
   "cell_type": "markdown",
   "metadata": {},
   "source": [
    "Goal: Relabel the mutation data frame with Entrez IDs instead of gene names, by mapping a combination of chromosome and gene symbol to Entrez ID. The NCBI file downloaded and read in the next cell contains the Entrez ID - gene symbol pairs we will use to do so."
   ]
  },
  {
   "cell_type": "code",
   "execution_count": 7,
   "metadata": {
    "collapsed": false
   },
   "outputs": [
    {
     "data": {
      "text/html": [
       "<div>\n",
       "<table border=\"1\" class=\"dataframe\">\n",
       "  <thead>\n",
       "    <tr style=\"text-align: right;\">\n",
       "      <th></th>\n",
       "      <th>tax_id</th>\n",
       "      <th>entrez_id</th>\n",
       "      <th>Symbol</th>\n",
       "      <th>LocusTag</th>\n",
       "      <th>Synonyms</th>\n",
       "      <th>dbXrefs</th>\n",
       "      <th>chr</th>\n",
       "      <th>map_location</th>\n",
       "      <th>description</th>\n",
       "      <th>type_of_gene</th>\n",
       "      <th>Symbol_from_nomenclature_authority</th>\n",
       "      <th>Full_name_from_nomenclature_authority</th>\n",
       "      <th>Nomenclature_status</th>\n",
       "      <th>Other_designations</th>\n",
       "      <th>Modification_date</th>\n",
       "    </tr>\n",
       "  </thead>\n",
       "  <tbody>\n",
       "    <tr>\n",
       "      <th>0</th>\n",
       "      <td>9606</td>\n",
       "      <td>1</td>\n",
       "      <td>A1BG</td>\n",
       "      <td>-</td>\n",
       "      <td>A1B|ABG|GAB|HYST2477</td>\n",
       "      <td>MIM:138670|HGNC:HGNC:5|Ensembl:ENSG00000121410...</td>\n",
       "      <td>19</td>\n",
       "      <td>19q13.4</td>\n",
       "      <td>alpha-1-B glycoprotein</td>\n",
       "      <td>protein-coding</td>\n",
       "      <td>A1BG</td>\n",
       "      <td>alpha-1-B glycoprotein</td>\n",
       "      <td>O</td>\n",
       "      <td>HEL-S-163pA|epididymis secretory sperm binding...</td>\n",
       "      <td>20160716</td>\n",
       "    </tr>\n",
       "    <tr>\n",
       "      <th>1</th>\n",
       "      <td>9606</td>\n",
       "      <td>2</td>\n",
       "      <td>A2M</td>\n",
       "      <td>-</td>\n",
       "      <td>A2MD|CPAMD5|FWP007|S863-7</td>\n",
       "      <td>MIM:103950|HGNC:HGNC:7|Ensembl:ENSG00000175899...</td>\n",
       "      <td>12</td>\n",
       "      <td>12p13.31</td>\n",
       "      <td>alpha-2-macroglobulin</td>\n",
       "      <td>protein-coding</td>\n",
       "      <td>A2M</td>\n",
       "      <td>alpha-2-macroglobulin</td>\n",
       "      <td>O</td>\n",
       "      <td>C3 and PZP-like alpha-2-macroglobulin domain-c...</td>\n",
       "      <td>20160719</td>\n",
       "    </tr>\n",
       "  </tbody>\n",
       "</table>\n",
       "</div>"
      ],
      "text/plain": [
       "   tax_id  entrez_id Symbol LocusTag                   Synonyms  \\\n",
       "0    9606          1   A1BG        -       A1B|ABG|GAB|HYST2477   \n",
       "1    9606          2    A2M        -  A2MD|CPAMD5|FWP007|S863-7   \n",
       "\n",
       "                                             dbXrefs chr map_location  \\\n",
       "0  MIM:138670|HGNC:HGNC:5|Ensembl:ENSG00000121410...  19      19q13.4   \n",
       "1  MIM:103950|HGNC:HGNC:7|Ensembl:ENSG00000175899...  12     12p13.31   \n",
       "\n",
       "              description    type_of_gene Symbol_from_nomenclature_authority  \\\n",
       "0  alpha-1-B glycoprotein  protein-coding                               A1BG   \n",
       "1   alpha-2-macroglobulin  protein-coding                                A2M   \n",
       "\n",
       "  Full_name_from_nomenclature_authority Nomenclature_status  \\\n",
       "0                alpha-1-B glycoprotein                   O   \n",
       "1                 alpha-2-macroglobulin                   O   \n",
       "\n",
       "                                  Other_designations  Modification_date  \n",
       "0  HEL-S-163pA|epididymis secretory sperm binding...           20160716  \n",
       "1  C3 and PZP-like alpha-2-macroglobulin domain-c...           20160719  "
      ]
     },
     "execution_count": 7,
     "metadata": {},
     "output_type": "execute_result"
    }
   ],
   "source": [
    "base_url = 'ftp://ftp.ncbi.nih.gov/gene/DATA/GENE_INFO/Mammalia/'\n",
    "map_name = 'Homo_sapiens.gene_info.gz'\n",
    "map_url = base_url + map_name\n",
    "path = os.path.join('download', map_name)\n",
    "urlretrieve(map_url, path)\n",
    "\n",
    "path = os.path.join('download', 'Homo_sapiens.gene_info.gz')\n",
    "map_names = ['tax_id', 'GeneID', 'Symbol', 'LocusTag', 'Synonyms', 'dbXrefs',\n",
    "             'chromosome', 'map_location', 'description', 'type_of_gene',\n",
    "             'Symbol_from_nomenclature_authority', 'Full_name_from_nomenclature_authority',\n",
    "             'Nomenclature_status', 'Other_designations', 'Modification_date']\n",
    "\n",
    "#skip the first row, which contains a description of the headers\n",
    "map_df = (\n",
    "    pandas.read_table(path,  names = map_names, skiprows = 1)\n",
    "    .rename(columns={'GeneID': 'entrez_id', 'chromosome':'chr'})\n",
    ")\n",
    "\n",
    "map_df.head(2)"
   ]
  },
  {
   "cell_type": "markdown",
   "metadata": {},
   "source": [
    "First, we will map base on unambiguous combinations of chromosome and the gene symbol of record."
   ]
  },
  {
   "cell_type": "code",
   "execution_count": 8,
   "metadata": {
    "collapsed": false
   },
   "outputs": [
    {
     "data": {
      "text/plain": [
       "'60112 of the 60209 possible chr-gene combinations in map_df are unique.'"
      ]
     },
     "execution_count": 8,
     "metadata": {},
     "output_type": "execute_result"
    }
   ],
   "source": [
    "#create chr-gene designation and check for duplicates\n",
    "snp_mutation_df['chr_gene'] = (snp_mutation_df['chr'] + '-' + snp_mutation_df['gene'])\n",
    "map_df['chr_gene'] = 'chr' + map_df['chr'] + '-' + map_df['Symbol']\n",
    "\n",
    "'{0} of the {1} possible chr-gene combinations in map_df are unique.'.format(\n",
    "    map_df['chr_gene'].nunique(),\n",
    "    len(map_df['chr_gene'])\n",
    "    )"
   ]
  },
  {
   "cell_type": "code",
   "execution_count": 9,
   "metadata": {
    "collapsed": false
   },
   "outputs": [
    {
     "data": {
      "text/plain": [
       "'60066 of the 60066 chr-gene combinations in map_df_nodups are unique.'"
      ]
     },
     "execution_count": 9,
     "metadata": {},
     "output_type": "execute_result"
    }
   ],
   "source": [
    "#remove all duplicated chr-gene combinations to avoid ambiguous mapping\n",
    "map_df_nodups = map_df.drop_duplicates(subset='chr_gene', keep=False)\n",
    "\n",
    "'{0} of the {1} chr-gene combinations in map_df_nodups are unique.'.format(\n",
    "    map_df_nodups['chr_gene'].nunique(),\n",
    "    len(map_df_nodups['chr_gene'])\n",
    "    )"
   ]
  },
  {
   "cell_type": "code",
   "execution_count": 10,
   "metadata": {
    "collapsed": false
   },
   "outputs": [
    {
     "data": {
      "text/plain": [
       "'Attempted to map 1902921 total observations. Mapped 1805340 observations unambiguously. Failed to map 97581 observations. 5.13% of the mutations failed to map based on chr + gene symbol'"
      ]
     },
     "execution_count": 10,
     "metadata": {},
     "output_type": "execute_result"
    }
   ],
   "source": [
    "#perform intial merge\n",
    "map_entrez = pandas.merge(snp_mutation_df, map_df_nodups, on = 'chr_gene', how = 'inner', suffixes = ['','_y'])\n",
    "\n",
    "#assess merge completeness\n",
    "all_maps = pandas.merge(snp_mutation_df, map_df_nodups, on = 'chr_gene', how = 'left', suffixes=['', '_y'])\n",
    "fail_index = all_maps.index[all_maps['entrez_id'].apply(np.isnan)]\n",
    "fail_maps = all_maps.iloc[fail_index]\n",
    "\n",
    "#drop the unsuccessfully merged columns from the unmapped observations\n",
    "fail_maps = fail_maps[snp_mutation_df.columns.values]\n",
    "\n",
    "'Attempted to map {0} total observations. Mapped {1} observations unambiguously. Failed to map {2} observations. {3:.2%} of the mutations failed to map based on chr + gene symbol'.format(\n",
    "snp_mutation_df.shape[0],\n",
    "map_entrez.shape[0],\n",
    "fail_maps.shape[0],\n",
    "fail_maps.shape[0]/(map_entrez.shape[0]+fail_maps.shape[0] )  \n",
    ")"
   ]
  },
  {
   "cell_type": "markdown",
   "metadata": {},
   "source": [
    "Attempt to use alternate gene symbols to re-map observations that intially failed to map."
   ]
  },
  {
   "cell_type": "code",
   "execution_count": 11,
   "metadata": {
    "collapsed": false
   },
   "outputs": [
    {
     "data": {
      "text/plain": [
       "'An additional 61521 observations mapped based on chr + alternate gene symbols. This represents 63.05% of observations that initially failed to map. 1.89% of total observations remain unmapped. '"
      ]
     },
     "execution_count": 11,
     "metadata": {},
     "output_type": "execute_result"
    }
   ],
   "source": [
    "#extract alternate symbol info, create row for each alternate\n",
    "alternates = map_df['Synonyms'].str.split('|').apply(pandas.Series, 1).stack()\n",
    "alternates.name = 'alt_symbol' # needs a name to join\n",
    "alternates.index = alternates.index.droplevel(-1)\n",
    "map_alternates = map_df.join(alternates)\n",
    "\n",
    "map_alternates['chr_gene'] = ('chr' + map_alternates['chr'] + '-' + map_alternates['alt_symbol'])\n",
    "\n",
    "#remove all duplicated chr-gene combinations to avoid ambiguous mapping\n",
    "map_alternates_nodups = map_alternates.drop_duplicates(subset='chr_gene', keep=False)\n",
    "\n",
    "#merge and completeness based on alternate symbols\n",
    "map_entrez_alts = pandas.merge(fail_maps, map_alternates_nodups, on = 'chr_gene', how = 'inner', suffixes = ['', '_y'])\n",
    "\n",
    "'An additional {0} observations mapped based on chr + alternate gene symbols. This represents {1:.2%} of observations that initially failed to map. {2:.2%} of total observations remain unmapped. '.format(\n",
    "    map_entrez_alts.shape[0],\n",
    "    map_entrez_alts.shape[0]/fail_maps.shape[0],\n",
    "    1 - (map_entrez_alts.shape[0] + map_entrez.shape[0])/snp_mutation_df.shape[0],\n",
    ")"
   ]
  },
  {
   "cell_type": "markdown",
   "metadata": {},
   "source": [
    "Combine the Entrez-labelled dataframes for observations mapped based on standard or alternate gene symbols. Keep only entrez_id and columns in the original mutation df."
   ]
  },
  {
   "cell_type": "code",
   "execution_count": 12,
   "metadata": {
    "collapsed": false
   },
   "outputs": [
    {
     "data": {
      "text/html": [
       "<div>\n",
       "<table border=\"1\" class=\"dataframe\">\n",
       "  <thead>\n",
       "    <tr style=\"text-align: right;\">\n",
       "      <th></th>\n",
       "      <th>sample_id</th>\n",
       "      <th>chr</th>\n",
       "      <th>start</th>\n",
       "      <th>end</th>\n",
       "      <th>reference</th>\n",
       "      <th>alt</th>\n",
       "      <th>gene</th>\n",
       "      <th>effect</th>\n",
       "      <th>DNA_VAF</th>\n",
       "      <th>RNA_VAF</th>\n",
       "      <th>Amino_Acid_Change</th>\n",
       "      <th>chr_gene</th>\n",
       "      <th>entrez_id</th>\n",
       "    </tr>\n",
       "  </thead>\n",
       "  <tbody>\n",
       "    <tr>\n",
       "      <th>0</th>\n",
       "      <td>TCGA-D8-A1J8-01</td>\n",
       "      <td>chr10</td>\n",
       "      <td>52587953</td>\n",
       "      <td>52587953</td>\n",
       "      <td>C</td>\n",
       "      <td>A</td>\n",
       "      <td>A1CF</td>\n",
       "      <td>Missense_Mutation</td>\n",
       "      <td>NaN</td>\n",
       "      <td>NaN</td>\n",
       "      <td>p.R236I</td>\n",
       "      <td>chr10-A1CF</td>\n",
       "      <td>29974</td>\n",
       "    </tr>\n",
       "    <tr>\n",
       "      <th>1</th>\n",
       "      <td>TCGA-BH-A0HP-01</td>\n",
       "      <td>chr10</td>\n",
       "      <td>52595854</td>\n",
       "      <td>52595854</td>\n",
       "      <td>G</td>\n",
       "      <td>A</td>\n",
       "      <td>A1CF</td>\n",
       "      <td>Missense_Mutation</td>\n",
       "      <td>NaN</td>\n",
       "      <td>NaN</td>\n",
       "      <td>p.A195V</td>\n",
       "      <td>chr10-A1CF</td>\n",
       "      <td>29974</td>\n",
       "    </tr>\n",
       "  </tbody>\n",
       "</table>\n",
       "</div>"
      ],
      "text/plain": [
       "         sample_id    chr     start       end reference alt  gene  \\\n",
       "0  TCGA-D8-A1J8-01  chr10  52587953  52587953         C   A  A1CF   \n",
       "1  TCGA-BH-A0HP-01  chr10  52595854  52595854         G   A  A1CF   \n",
       "\n",
       "              effect  DNA_VAF  RNA_VAF Amino_Acid_Change    chr_gene  \\\n",
       "0  Missense_Mutation      NaN      NaN           p.R236I  chr10-A1CF   \n",
       "1  Missense_Mutation      NaN      NaN           p.A195V  chr10-A1CF   \n",
       "\n",
       "   entrez_id  \n",
       "0      29974  \n",
       "1      29974  "
      ]
     },
     "execution_count": 12,
     "metadata": {},
     "output_type": "execute_result"
    }
   ],
   "source": [
    "cols = np.append(snp_mutation_df.columns.values, 'entrez_id')\n",
    "snp_mutation_df_mapped = pandas.concat([map_entrez[cols], map_entrez_alts[cols]])\n",
    "snp_mutation_df_mapped.head(2)"
   ]
  },
  {
   "cell_type": "markdown",
   "metadata": {},
   "source": [
    "### Convert SNP mutations to gene mutations\n",
    "\n",
    "The next cell specifies which mutations to preserve as gene-affecting, which were chosen according to the red & blue [mutation effects in Xena](http://xena.ucsc.edu/how-we-characterize-mutations/)."
   ]
  },
  {
   "cell_type": "code",
   "execution_count": 13,
   "metadata": {
    "collapsed": true
   },
   "outputs": [],
   "source": [
    "mutations = {\n",
    "    'Frame_Shift_Del',\n",
    "    'Frame_Shift_Ins',\n",
    "    'In_Frame_Del',\n",
    "    'In_Frame_Ins',\n",
    "    'Missense_Mutation',\n",
    "    'Nonsense_Mutation',\n",
    "    'Nonstop_Mutation',\n",
    "    'RNA',\n",
    "    'Splice_Site',\n",
    "    'Translation_Start_Site',\n",
    "}"
   ]
  },
  {
   "cell_type": "code",
   "execution_count": 14,
   "metadata": {
    "collapsed": false
   },
   "outputs": [
    {
     "data": {
      "text/plain": [
       "{\"3'UTR\", \"5'UTR\", 'IGR', 'Intron', 'Silent'}"
      ]
     },
     "execution_count": 14,
     "metadata": {},
     "output_type": "execute_result"
    }
   ],
   "source": [
    "# Mutations effects that were observed but not included\n",
    "set(snp_mutation_df_mapped.effect.unique()) - mutations"
   ]
  },
  {
   "cell_type": "code",
   "execution_count": 15,
   "metadata": {
    "collapsed": false
   },
   "outputs": [
    {
     "data": {
      "text/html": [
       "<div>\n",
       "<table border=\"1\" class=\"dataframe\">\n",
       "  <thead>\n",
       "    <tr style=\"text-align: right;\">\n",
       "      <th></th>\n",
       "      <th>sample_id</th>\n",
       "      <th>entrez_id</th>\n",
       "      <th>count</th>\n",
       "    </tr>\n",
       "  </thead>\n",
       "  <tbody>\n",
       "    <tr>\n",
       "      <th>0</th>\n",
       "      <td>TCGA-02-0003-01</td>\n",
       "      <td>1767</td>\n",
       "      <td>1</td>\n",
       "    </tr>\n",
       "    <tr>\n",
       "      <th>1</th>\n",
       "      <td>TCGA-02-0003-01</td>\n",
       "      <td>1956</td>\n",
       "      <td>1</td>\n",
       "    </tr>\n",
       "  </tbody>\n",
       "</table>\n",
       "</div>"
      ],
      "text/plain": [
       "         sample_id  entrez_id  count\n",
       "0  TCGA-02-0003-01       1767      1\n",
       "1  TCGA-02-0003-01       1956      1"
      ]
     },
     "execution_count": 15,
     "metadata": {},
     "output_type": "execute_result"
    }
   ],
   "source": [
    "gene_mutation_df = (snp_mutation_df_mapped\n",
    "    .query(\"effect in @mutations\")\n",
    "    .groupby(['sample_id', 'entrez_id'])\n",
    "    .apply(len)\n",
    "    .reset_index()\n",
    "    .rename(columns={0: 'count'})\n",
    ")\n",
    "gene_mutation_df.head(2)"
   ]
  },
  {
   "cell_type": "code",
   "execution_count": 16,
   "metadata": {
    "collapsed": false
   },
   "outputs": [
    {
     "data": {
      "text/plain": [
       "(8507, 21928)"
      ]
     },
     "execution_count": 16,
     "metadata": {},
     "output_type": "execute_result"
    }
   ],
   "source": [
    "# Create a sample (rows) by gene (columns) matrix of mutation status\n",
    "gene_mutation_mat_df = (gene_mutation_df\n",
    "    .pivot_table(index='sample_id', columns='entrez_id', values='count', fill_value=0)\n",
    "    .astype(bool).astype(int)\n",
    ")\n",
    "gene_mutation_mat_df.shape"
   ]
  },
  {
   "cell_type": "code",
   "execution_count": 17,
   "metadata": {
    "collapsed": false
   },
   "outputs": [
    {
     "data": {
      "text/plain": [
       "'0.67% sample-gene pairs are mutated'"
      ]
     },
     "execution_count": 17,
     "metadata": {},
     "output_type": "execute_result"
    }
   ],
   "source": [
    "'{:.2%} sample-gene pairs are mutated'.format(\n",
    "    gene_mutation_mat_df.stack().mean())"
   ]
  },
  {
   "cell_type": "code",
   "execution_count": 18,
   "metadata": {
    "collapsed": false
   },
   "outputs": [
    {
     "data": {
      "text/html": [
       "<div>\n",
       "<table border=\"1\" class=\"dataframe\">\n",
       "  <thead>\n",
       "    <tr style=\"text-align: right;\">\n",
       "      <th></th>\n",
       "      <th>entrez_id</th>\n",
       "      <th>count</th>\n",
       "    </tr>\n",
       "  </thead>\n",
       "  <tbody>\n",
       "    <tr>\n",
       "      <th>0</th>\n",
       "      <td>7157</td>\n",
       "      <td>2992</td>\n",
       "    </tr>\n",
       "    <tr>\n",
       "      <th>1</th>\n",
       "      <td>7273</td>\n",
       "      <td>2465</td>\n",
       "    </tr>\n",
       "    <tr>\n",
       "      <th>2</th>\n",
       "      <td>94025</td>\n",
       "      <td>1518</td>\n",
       "    </tr>\n",
       "    <tr>\n",
       "      <th>3</th>\n",
       "      <td>5290</td>\n",
       "      <td>1024</td>\n",
       "    </tr>\n",
       "    <tr>\n",
       "      <th>4</th>\n",
       "      <td>114788</td>\n",
       "      <td>989</td>\n",
       "    </tr>\n",
       "  </tbody>\n",
       "</table>\n",
       "</div>"
      ],
      "text/plain": [
       "   entrez_id  count\n",
       "0       7157   2992\n",
       "1       7273   2465\n",
       "2      94025   1518\n",
       "3       5290   1024\n",
       "4     114788    989"
      ]
     },
     "execution_count": 18,
     "metadata": {},
     "output_type": "execute_result"
    }
   ],
   "source": [
    "# Top mutated genes, with table relabelled for clarity\n",
    "gene_mutation_df.entrez_id.value_counts().reset_index().rename(columns={'index':'entrez_id', 'entrez_id':'count'}).head(5)"
   ]
  },
  {
   "cell_type": "markdown",
   "metadata": {},
   "source": [
    "The top mutated gene (Entrez ID: 7157) is TP53."
   ]
  },
  {
   "cell_type": "code",
   "execution_count": 19,
   "metadata": {
    "collapsed": false
   },
   "outputs": [
    {
     "data": {
      "text/html": [
       "<div>\n",
       "<table border=\"1\" class=\"dataframe\">\n",
       "  <thead>\n",
       "    <tr style=\"text-align: right;\">\n",
       "      <th></th>\n",
       "      <th>index</th>\n",
       "      <th>sample_id</th>\n",
       "    </tr>\n",
       "  </thead>\n",
       "  <tbody>\n",
       "    <tr>\n",
       "      <th>0</th>\n",
       "      <td>TCGA-IB-7651-01</td>\n",
       "      <td>8364</td>\n",
       "    </tr>\n",
       "    <tr>\n",
       "      <th>1</th>\n",
       "      <td>TCGA-FW-A3R5-06</td>\n",
       "      <td>7660</td>\n",
       "    </tr>\n",
       "    <tr>\n",
       "      <th>2</th>\n",
       "      <td>TCGA-AP-A0LM-01</td>\n",
       "      <td>7030</td>\n",
       "    </tr>\n",
       "    <tr>\n",
       "      <th>3</th>\n",
       "      <td>TCGA-AP-A059-01</td>\n",
       "      <td>6479</td>\n",
       "    </tr>\n",
       "    <tr>\n",
       "      <th>4</th>\n",
       "      <td>TCGA-B5-A0JY-01</td>\n",
       "      <td>6149</td>\n",
       "    </tr>\n",
       "  </tbody>\n",
       "</table>\n",
       "</div>"
      ],
      "text/plain": [
       "             index  sample_id\n",
       "0  TCGA-IB-7651-01       8364\n",
       "1  TCGA-FW-A3R5-06       7660\n",
       "2  TCGA-AP-A0LM-01       7030\n",
       "3  TCGA-AP-A059-01       6479\n",
       "4  TCGA-B5-A0JY-01       6149"
      ]
     },
     "execution_count": 19,
     "metadata": {},
     "output_type": "execute_result"
    }
   ],
   "source": [
    "# Top mutated samples\n",
    "gene_mutation_df.sample_id.value_counts().reset_index().head(5)"
   ]
  },
  {
   "cell_type": "markdown",
   "metadata": {},
   "source": [
    "## Read gene expression data\n",
    "\n",
    "This file contains gene expression data from RNA-Sequencing. See the [online documentation](https://genome-cancer.soe.ucsc.edu/proj/site/xena/datapages/?dataset=TCGA.PANCAN.sampleMap/HiSeqV2&host=https://tcga.xenahubs.net) for `HiSeqV2`."
   ]
  },
  {
   "cell_type": "code",
   "execution_count": 20,
   "metadata": {
    "collapsed": false
   },
   "outputs": [],
   "source": [
    "# Read the gene × sample dataset\n",
    "path = os.path.join('download', 'HiSeqV2.tsv.bz2')\n",
    "expr_df = pandas.read_table(path, index_col=0)"
   ]
  },
  {
   "cell_type": "code",
   "execution_count": 21,
   "metadata": {
    "collapsed": false
   },
   "outputs": [
    {
     "data": {
      "text/plain": [
       "set()"
      ]
     },
     "execution_count": 21,
     "metadata": {},
     "output_type": "execute_result"
    }
   ],
   "source": [
    "# Retrieve symbol to gene mapping for HiSeqV2\n",
    "path = os.path.join('mapping', 'HiSeqV2-genes', 'HiSeqV2-gene-map.tsv')\n",
    "gene_map_df = pandas.read_table(path)\n",
    "symbol_to_entrez = dict(zip(gene_map_df.symbol, gene_map_df.entrez_gene_id))\n",
    "\n",
    "# Check that there aren't any unmapped symbols\n",
    "unmapped_symbols = set(expr_df.index) - set(symbol_to_entrez)\n",
    "unmapped_symbols"
   ]
  },
  {
   "cell_type": "code",
   "execution_count": 22,
   "metadata": {
    "collapsed": false
   },
   "outputs": [
    {
     "data": {
      "text/plain": [
       "(10459, 20530)"
      ]
     },
     "execution_count": 22,
     "metadata": {},
     "output_type": "execute_result"
    }
   ],
   "source": [
    "# Process the dataset\n",
    "expr_df = (expr_df\n",
    "    # Convert gene symbols to entrez gene ids\n",
    "    .rename(index=symbol_to_entrez)\n",
    "    # Transpose so the data is sample × gene\n",
    "    .transpose()\n",
    "    # Sort rows and columns\n",
    "    .sort_index(axis='rows')\n",
    "    .sort_index(axis='columns')\n",
    ")\n",
    "\n",
    "expr_df.index.rename('sample_id', inplace=True)\n",
    "\n",
    "expr_df.shape"
   ]
  },
  {
   "cell_type": "code",
   "execution_count": 23,
   "metadata": {
    "collapsed": false
   },
   "outputs": [
    {
     "data": {
      "text/html": [
       "<div>\n",
       "<table border=\"1\" class=\"dataframe\">\n",
       "  <thead>\n",
       "    <tr style=\"text-align: right;\">\n",
       "      <th>Sample</th>\n",
       "      <th>1</th>\n",
       "      <th>2</th>\n",
       "      <th>9</th>\n",
       "      <th>10</th>\n",
       "      <th>12</th>\n",
       "    </tr>\n",
       "    <tr>\n",
       "      <th>sample_id</th>\n",
       "      <th></th>\n",
       "      <th></th>\n",
       "      <th></th>\n",
       "      <th></th>\n",
       "      <th></th>\n",
       "    </tr>\n",
       "  </thead>\n",
       "  <tbody>\n",
       "    <tr>\n",
       "      <th>TCGA-02-0047-01</th>\n",
       "      <td>6.9774</td>\n",
       "      <td>15.0538</td>\n",
       "      <td>5.3559</td>\n",
       "      <td>3.5171</td>\n",
       "      <td>14.9601</td>\n",
       "    </tr>\n",
       "    <tr>\n",
       "      <th>TCGA-02-0055-01</th>\n",
       "      <td>8.6177</td>\n",
       "      <td>15.3879</td>\n",
       "      <td>6.5382</td>\n",
       "      <td>1.0849</td>\n",
       "      <td>14.5426</td>\n",
       "    </tr>\n",
       "    <tr>\n",
       "      <th>TCGA-02-2483-01</th>\n",
       "      <td>8.0920</td>\n",
       "      <td>14.3622</td>\n",
       "      <td>5.1023</td>\n",
       "      <td>2.4967</td>\n",
       "      <td>13.3549</td>\n",
       "    </tr>\n",
       "    <tr>\n",
       "      <th>TCGA-02-2485-01</th>\n",
       "      <td>6.4084</td>\n",
       "      <td>12.9292</td>\n",
       "      <td>5.9968</td>\n",
       "      <td>4.3923</td>\n",
       "      <td>14.8337</td>\n",
       "    </tr>\n",
       "    <tr>\n",
       "      <th>TCGA-02-2486-01</th>\n",
       "      <td>6.7716</td>\n",
       "      <td>15.3224</td>\n",
       "      <td>6.3377</td>\n",
       "      <td>2.2199</td>\n",
       "      <td>16.7832</td>\n",
       "    </tr>\n",
       "  </tbody>\n",
       "</table>\n",
       "</div>"
      ],
      "text/plain": [
       "Sample               1        2       9       10       12\n",
       "sample_id                                                \n",
       "TCGA-02-0047-01  6.9774  15.0538  5.3559  3.5171  14.9601\n",
       "TCGA-02-0055-01  8.6177  15.3879  6.5382  1.0849  14.5426\n",
       "TCGA-02-2483-01  8.0920  14.3622  5.1023  2.4967  13.3549\n",
       "TCGA-02-2485-01  6.4084  12.9292  5.9968  4.3923  14.8337\n",
       "TCGA-02-2486-01  6.7716  15.3224  6.3377  2.2199  16.7832"
      ]
     },
     "execution_count": 23,
     "metadata": {},
     "output_type": "execute_result"
    }
   ],
   "source": [
    "# Peak at the data matrix\n",
    "expr_df.iloc[:5, :5]"
   ]
  },
  {
   "cell_type": "markdown",
   "metadata": {},
   "source": [
    "## Integrate expression and mutation data\n",
    "\n",
    "Find samples with both mutation and expression data. We assume that if a sample was not in `PANCAN_mutation`, it was not assayed for mutation. Hence, zero-mutation cancers are excluded even if they have mutation data."
   ]
  },
  {
   "cell_type": "code",
   "execution_count": 24,
   "metadata": {
    "collapsed": false
   },
   "outputs": [
    {
     "data": {
      "text/plain": [
       "7705"
      ]
     },
     "execution_count": 24,
     "metadata": {},
     "output_type": "execute_result"
    }
   ],
   "source": [
    "sample_ids = list(gene_mutation_mat_df.index & expr_df.index)\n",
    "len(sample_ids)"
   ]
  },
  {
   "cell_type": "code",
   "execution_count": 25,
   "metadata": {
    "collapsed": false
   },
   "outputs": [],
   "source": [
    "# Filter expression (x) and mutation (y) matrices for common samples\n",
    "x_df = expr_df.loc[sample_ids, :]\n",
    "y_df = gene_mutation_mat_df.loc[sample_ids, :]"
   ]
  },
  {
   "cell_type": "markdown",
   "metadata": {},
   "source": [
    "### Export matrices to TSVs\n",
    "\n",
    "Matrices are saved as sample × gene TSVs. Subsetted matrices are also exported to allow users to quickly explore small portions of the dataset."
   ]
  },
  {
   "cell_type": "code",
   "execution_count": 26,
   "metadata": {
    "collapsed": false
   },
   "outputs": [],
   "source": [
    "def sample_df(df, nrows=None, ncols=None, row_seed=0, col_seed=0):\n",
    "    \"\"\"Randomly subset a dataframe, preserving row and column order.\"\"\"\n",
    "    if nrows is None:\n",
    "        nrows = len(df)\n",
    "    if ncols is None:\n",
    "        ncols = len(df.columns)\n",
    "    return (df\n",
    "        .sample(n=nrows, random_state=row_seed, axis='rows')\n",
    "        .sample(n=ncols, random_state=col_seed, axis='columns')\n",
    "        .sort_index(axis='rows')\n",
    "        .sort_index(axis='columns')\n",
    "    )"
   ]
  },
  {
   "cell_type": "code",
   "execution_count": 27,
   "metadata": {
    "collapsed": false
   },
   "outputs": [],
   "source": [
    "tsv_args = {'sep': '\\t', 'float_format': '%.3g'}\n",
    "\n",
    "for df, name in (x_df, 'expression-matrix'), (y_df, 'mutation-matrix'):\n",
    "\n",
    "    # Save full dataset\n",
    "    path = os.path.join('data', name + '.tsv.bz2')\n",
    "    df.to_csv(path, **tsv_args, compression='bz2')\n",
    "    \n",
    "    # Save subsetted datasets\n",
    "    for sample, nrows, ncols in ('small', 50, 15), ('all-samples', None, 15), ('all-genes', 50, None):\n",
    "        path = os.path.join('data', 'subset', '{}-{}.tsv'.format(name, sample))\n",
    "        sample_df(df, nrows=nrows, ncols=ncols).to_csv(path, **tsv_args)"
   ]
  },
  {
   "cell_type": "code",
   "execution_count": null,
   "metadata": {
    "collapsed": true
   },
   "outputs": [],
   "source": []
  }
 ],
 "metadata": {
  "anaconda-cloud": {},
  "kernelspec": {
   "display_name": "Python 3",
   "language": "python",
   "name": "python3"
  },
  "language_info": {
   "codemirror_mode": {
    "name": "ipython",
    "version": 3
   },
   "file_extension": ".py",
   "mimetype": "text/x-python",
   "name": "python",
   "nbconvert_exporter": "python",
   "pygments_lexer": "ipython3",
   "version": "3.5.2"
  }
 },
 "nbformat": 4,
 "nbformat_minor": 0
}
