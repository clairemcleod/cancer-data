{
 "cells": [
  {
   "cell_type": "markdown",
   "metadata": {},
   "source": [
    "### Convert mutation gene symbol labels to Entrez IDs  \n",
    "Goal: Relabel the mutation data frame with Entrez IDs instead of gene names, by mapping a combination of chromosome and gene symbol to Entrez ID. The NCBI file downloaded and read in the next cell contains the Entrez ID - gene symbol pairs we will use to do so."
   ]
  },
  {
   "cell_type": "code",
   "execution_count": 1,
   "metadata": {
    "collapsed": true
   },
   "outputs": [],
   "source": [
    "import os\n",
    "import pandas\n",
    "from urllib.request import urlretrieve\n",
    "import numpy as np"
   ]
  },
  {
   "cell_type": "markdown",
   "metadata": {},
   "source": [
    "### Creating Mappings"
   ]
  },
  {
   "cell_type": "code",
   "execution_count": 2,
   "metadata": {
    "collapsed": false
   },
   "outputs": [
    {
     "data": {
      "text/html": [
       "<div>\n",
       "<table border=\"1\" class=\"dataframe\">\n",
       "  <thead>\n",
       "    <tr style=\"text-align: right;\">\n",
       "      <th></th>\n",
       "      <th>entrez_id</th>\n",
       "      <th>chr</th>\n",
       "      <th>symbol</th>\n",
       "      <th>Synonyms</th>\n",
       "    </tr>\n",
       "  </thead>\n",
       "  <tbody>\n",
       "    <tr>\n",
       "      <th>0</th>\n",
       "      <td>1</td>\n",
       "      <td>19</td>\n",
       "      <td>A1BG</td>\n",
       "      <td>A1B|ABG|GAB|HYST2477</td>\n",
       "    </tr>\n",
       "    <tr>\n",
       "      <th>1</th>\n",
       "      <td>2</td>\n",
       "      <td>12</td>\n",
       "      <td>A2M</td>\n",
       "      <td>A2MD|CPAMD5|FWP007|S863-7</td>\n",
       "    </tr>\n",
       "  </tbody>\n",
       "</table>\n",
       "</div>"
      ],
      "text/plain": [
       "   entrez_id chr symbol                   Synonyms\n",
       "0          1  19   A1BG       A1B|ABG|GAB|HYST2477\n",
       "1          2  12    A2M  A2MD|CPAMD5|FWP007|S863-7"
      ]
     },
     "execution_count": 2,
     "metadata": {},
     "output_type": "execute_result"
    }
   ],
   "source": [
    "base_url = 'ftp://ftp.ncbi.nih.gov/gene/DATA/GENE_INFO/Mammalia/'\n",
    "map_name = 'Homo_sapiens.gene_info.gz'\n",
    "map_url = base_url + map_name\n",
    "path = os.path.join('download', map_name)\n",
    "urlretrieve(map_url, path)\n",
    "\n",
    "path = os.path.join('download', map_name)\n",
    "\n",
    "map_df = (\n",
    "    pandas.read_table(path)\n",
    "    .rename(columns={'#tax_id' : 'tax_id', 'GeneID': 'entrez_id', 'chromosome':'chr', 'Symbol':'symbol'})\n",
    ")\n",
    "\n",
    "#filter to include only tax_id == 9606 (human) and columns of interest\n",
    "map_df = map_df.ix[map_df['tax_id'] == 9606, ['entrez_id','chr', 'symbol', 'Synonyms']]\n",
    "\n",
    "map_df.head(2)"
   ]
  },
  {
   "cell_type": "code",
   "execution_count": 3,
   "metadata": {
    "collapsed": false
   },
   "outputs": [
    {
     "data": {
      "text/html": [
       "<div>\n",
       "<table border=\"1\" class=\"dataframe\">\n",
       "  <thead>\n",
       "    <tr style=\"text-align: right;\">\n",
       "      <th></th>\n",
       "      <th>entrez_id</th>\n",
       "      <th>chr</th>\n",
       "      <th>symbol</th>\n",
       "    </tr>\n",
       "  </thead>\n",
       "  <tbody>\n",
       "    <tr>\n",
       "      <th>0</th>\n",
       "      <td>1</td>\n",
       "      <td>19</td>\n",
       "      <td>A1BG</td>\n",
       "    </tr>\n",
       "    <tr>\n",
       "      <th>1</th>\n",
       "      <td>2</td>\n",
       "      <td>12</td>\n",
       "      <td>A2M</td>\n",
       "    </tr>\n",
       "  </tbody>\n",
       "</table>\n",
       "</div>"
      ],
      "text/plain": [
       "   entrez_id chr symbol\n",
       "0          1  19   A1BG\n",
       "1          2  12    A2M"
      ]
     },
     "execution_count": 3,
     "metadata": {},
     "output_type": "execute_result"
    }
   ],
   "source": [
    "map_primary = map_df[['entrez_id','chr', 'symbol']]\n",
    "map_primary.head(2)"
   ]
  },
  {
   "cell_type": "code",
   "execution_count": 4,
   "metadata": {
    "collapsed": false
   },
   "outputs": [],
   "source": [
    "alternates = map_df['Synonyms'].str.split('|').apply(pandas.Series, 1).stack()\n",
    "alternates.name = 'alt_symbol' # needs a name to join\n",
    "alternates.index = alternates.index.droplevel(-1)\n",
    "map_alternates = map_df.join(alternates)"
   ]
  },
  {
   "cell_type": "code",
   "execution_count": 5,
   "metadata": {
    "collapsed": false
   },
   "outputs": [],
   "source": [
    "#format as entrez_id, chr, alternate symbol\n",
    "map_alternates = map_alternates.drop_duplicates(subset=['chr','alt_symbol'], keep=False)[\n",
    "    ['entrez_id', 'chr', 'alt_symbol']].rename(columns={'alt_symbol': 'symbol'})"
   ]
  },
  {
   "cell_type": "code",
   "execution_count": 6,
   "metadata": {
    "collapsed": false
   },
   "outputs": [
    {
     "data": {
      "text/html": [
       "<div>\n",
       "<table border=\"1\" class=\"dataframe\">\n",
       "  <thead>\n",
       "    <tr style=\"text-align: right;\">\n",
       "      <th></th>\n",
       "      <th>entrez_id</th>\n",
       "      <th>chr</th>\n",
       "      <th>symbol</th>\n",
       "    </tr>\n",
       "  </thead>\n",
       "  <tbody>\n",
       "    <tr>\n",
       "      <th>0</th>\n",
       "      <td>1</td>\n",
       "      <td>chr19</td>\n",
       "      <td>A1BG</td>\n",
       "    </tr>\n",
       "    <tr>\n",
       "      <th>1</th>\n",
       "      <td>2</td>\n",
       "      <td>chr12</td>\n",
       "      <td>A2M</td>\n",
       "    </tr>\n",
       "  </tbody>\n",
       "</table>\n",
       "</div>"
      ],
      "text/plain": [
       "   entrez_id    chr symbol\n",
       "0          1  chr19   A1BG\n",
       "1          2  chr12    A2M"
      ]
     },
     "execution_count": 6,
     "metadata": {},
     "output_type": "execute_result"
    }
   ],
   "source": [
    "#use keep = first to give primacy to the primary symbol convention in the case of ambiguous mappings\n",
    "maps_combined = map_primary.append(map_alternates).drop_duplicates(subset=['chr','symbol'], keep='first')\n",
    "\n",
    "#add chr string to facilitate integration with mutation dataset\n",
    "maps_combined['chr'] = 'chr' + maps_combined['chr'].astype(str)\n",
    "maps_combined.head(2)"
   ]
  },
  {
   "cell_type": "code",
   "execution_count": 7,
   "metadata": {
    "collapsed": false
   },
   "outputs": [],
   "source": [
    "# Check that chr/symbol are all unique \n",
    "assert not (maps_combined.chr + '|' + maps_combined.symbol).duplicated().any()"
   ]
  },
  {
   "cell_type": "markdown",
   "metadata": {},
   "source": [
    "### Check and see which mutations in the dataset fail to map"
   ]
  },
  {
   "cell_type": "code",
   "execution_count": 8,
   "metadata": {
    "collapsed": false
   },
   "outputs": [
    {
     "data": {
      "text/html": [
       "<div>\n",
       "<table border=\"1\" class=\"dataframe\">\n",
       "  <thead>\n",
       "    <tr style=\"text-align: right;\">\n",
       "      <th></th>\n",
       "      <th>chr</th>\n",
       "      <th>start</th>\n",
       "      <th>end</th>\n",
       "      <th>reference</th>\n",
       "      <th>alt</th>\n",
       "      <th>gene</th>\n",
       "      <th>effect</th>\n",
       "      <th>DNA_VAF</th>\n",
       "      <th>RNA_VAF</th>\n",
       "      <th>Amino_Acid_Change</th>\n",
       "    </tr>\n",
       "    <tr>\n",
       "      <th>sample</th>\n",
       "      <th></th>\n",
       "      <th></th>\n",
       "      <th></th>\n",
       "      <th></th>\n",
       "      <th></th>\n",
       "      <th></th>\n",
       "      <th></th>\n",
       "      <th></th>\n",
       "      <th></th>\n",
       "      <th></th>\n",
       "    </tr>\n",
       "  </thead>\n",
       "  <tbody>\n",
       "    <tr>\n",
       "      <th>TCGA-D8-A1J8-01</th>\n",
       "      <td>chr10</td>\n",
       "      <td>52587953</td>\n",
       "      <td>52587953</td>\n",
       "      <td>C</td>\n",
       "      <td>A</td>\n",
       "      <td>A1CF</td>\n",
       "      <td>Missense_Mutation</td>\n",
       "      <td>NaN</td>\n",
       "      <td>NaN</td>\n",
       "      <td>p.R236I</td>\n",
       "    </tr>\n",
       "    <tr>\n",
       "      <th>TCGA-BH-A0HP-01</th>\n",
       "      <td>chr10</td>\n",
       "      <td>52595854</td>\n",
       "      <td>52595854</td>\n",
       "      <td>G</td>\n",
       "      <td>A</td>\n",
       "      <td>A1CF</td>\n",
       "      <td>Missense_Mutation</td>\n",
       "      <td>NaN</td>\n",
       "      <td>NaN</td>\n",
       "      <td>p.A195V</td>\n",
       "    </tr>\n",
       "  </tbody>\n",
       "</table>\n",
       "</div>"
      ],
      "text/plain": [
       "                   chr     start       end reference alt  gene  \\\n",
       "sample                                                           \n",
       "TCGA-D8-A1J8-01  chr10  52587953  52587953         C   A  A1CF   \n",
       "TCGA-BH-A0HP-01  chr10  52595854  52595854         G   A  A1CF   \n",
       "\n",
       "                            effect  DNA_VAF  RNA_VAF Amino_Acid_Change  \n",
       "sample                                                                  \n",
       "TCGA-D8-A1J8-01  Missense_Mutation      NaN      NaN           p.R236I  \n",
       "TCGA-BH-A0HP-01  Missense_Mutation      NaN      NaN           p.A195V  "
      ]
     },
     "execution_count": 8,
     "metadata": {},
     "output_type": "execute_result"
    }
   ],
   "source": [
    "path = \"../../download/PANCAN_mutation.tsv.bz2\"\n",
    "mutation_df = pandas.read_table(path, index_col=0)\n",
    "\n",
    "mutation_df.head(2)"
   ]
  },
  {
   "cell_type": "code",
   "execution_count": 9,
   "metadata": {
    "collapsed": false
   },
   "outputs": [
    {
     "data": {
      "text/plain": [
       "'7477 of 1988162 mutations failed to map based on chromosome and either primary or alternate gene symbol. (0.38% of mutations.)'"
      ]
     },
     "execution_count": 9,
     "metadata": {},
     "output_type": "execute_result"
    }
   ],
   "source": [
    "failed_mappings = (set(mutation_df.chr + '|' + mutation_df.gene) - \n",
    "                   set(maps_combined.chr + '|' + maps_combined.symbol))\n",
    "    \n",
    "'{0} of {1} mutations failed to map based on chromosome and either primary or alternate gene symbol. ({2:.2%} of mutations.)'.format(\n",
    "    len(failed_mappings),\n",
    "    len(mutation_df.chr),\n",
    "    len(failed_mappings)/len(mutation_df.chr))\n"
   ]
  },
  {
   "cell_type": "markdown",
   "metadata": {},
   "source": [
    "Some (~300) of these failed mappings are attributable to non-standard chromosomes designations. "
   ]
  },
  {
   "cell_type": "code",
   "execution_count": 10,
   "metadata": {
    "collapsed": false
   },
   "outputs": [
    {
     "data": {
      "text/plain": [
       "chrGL000205.1    90\n",
       "chrGL000209.1    44\n",
       "chrM             28\n",
       "chrGL000192.1    24\n",
       "chrGL000211.1    18\n",
       "chrGL000212.1    17\n",
       "chrGL000218.1    13\n",
       "chrGL000237.1    11\n",
       "chrGL000241.1     8\n",
       "chrGL000219.1     8\n",
       "chrGL000193.1     7\n",
       "chrGL000214.1     5\n",
       "chrGL000195.1     4\n",
       "chrNT_113889      4\n",
       "chrNT_113923      3\n",
       "chrGL000229.1     2\n",
       "chrGL000220.1     2\n",
       "chrGL000213.1     2\n",
       "chrNT_113933      1\n",
       "chrGL000191.1     1\n",
       "chrNT_113961      1\n",
       "chrNT_113901      1\n",
       "chrNT_113888      1\n",
       "chrNT_113930      1\n",
       "Name: chr, dtype: int64"
      ]
     },
     "execution_count": 10,
     "metadata": {},
     "output_type": "execute_result"
    }
   ],
   "source": [
    "#count the mutations observed on chromosomes that failed to map for any observations\n",
    "failed_chr_mappings = (set(mutation_df.chr ) - set(maps_combined.chr))\n",
    "\n",
    "pandas.merge(mutation_df, pandas.DataFrame(list(failed_chr_mappings)), \n",
    "             left_on=['chr'], right_on=[0] , how='inner').chr.value_counts()"
   ]
  },
  {
   "cell_type": "code",
   "execution_count": 11,
   "metadata": {
    "collapsed": false
   },
   "outputs": [
    {
     "data": {
      "text/plain": [
       "(122937, 3)"
      ]
     },
     "execution_count": 11,
     "metadata": {},
     "output_type": "execute_result"
    }
   ],
   "source": [
    "#remove the alternate gene symbols 'NaN' corresponding to entrez id 11280  and 'NA' correspongind to 7504\n",
    "maps_combined = maps_combined[(maps_combined.symbol != 'NaN') & (maps_combined.symbol != 'NA')]\n",
    "\n",
    "maps_combined.shape"
   ]
  },
  {
   "cell_type": "markdown",
   "metadata": {
    "collapsed": false
   },
   "source": [
    "### Export Mappings"
   ]
  },
  {
   "cell_type": "code",
   "execution_count": 12,
   "metadata": {
    "collapsed": true
   },
   "outputs": [],
   "source": [
    "maps_combined.to_csv('PANCAN-mutation-gene-map.tsv', index=False, sep='\\t')"
   ]
  },
  {
   "cell_type": "code",
   "execution_count": null,
   "metadata": {
    "collapsed": true
   },
   "outputs": [],
   "source": []
  }
 ],
 "metadata": {
  "kernelspec": {
   "display_name": "Python 3",
   "language": "python",
   "name": "python3"
  },
  "language_info": {
   "codemirror_mode": {
    "name": "ipython",
    "version": 3
   },
   "file_extension": ".py",
   "mimetype": "text/x-python",
   "name": "python",
   "nbconvert_exporter": "python",
   "pygments_lexer": "ipython3",
   "version": "3.5.2"
  }
 },
 "nbformat": 4,
 "nbformat_minor": 0
}
